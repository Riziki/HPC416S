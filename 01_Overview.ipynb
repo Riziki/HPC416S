{
 "cells": [
  {
   "cell_type": "markdown",
   "metadata": {
    "slideshow": {
     "slide_type": "slide"
    }
   },
   "source": [
    "# Introduction to Statistics\n",
    "\n",
    "Gerard Tromp, Prof Bioinformatics, FMHS Stellenbosch\n",
    "\n",
    "2018-02-26"
   ]
  },
  {
   "cell_type": "markdown",
   "metadata": {
    "slideshow": {
     "slide_type": "slide"
    }
   },
   "source": [
    "## Outline\n",
    "\n",
    "### Day one\n",
    "1. Statistics: what and why?\n",
    "2. Descriptive statistics\n",
    "3. Distributions\n",
    "4. Probability  \n",
    "\n"
   ]
  },
  {
   "cell_type": "markdown",
   "metadata": {
    "slideshow": {
     "slide_type": "slide"
    }
   },
   "source": [
    "## Outline\n",
    "\n",
    "### Day two\n",
    "1. Means testing (t-test)\n",
    "2. Linear models\n",
    "    - ANOVA\n",
    "    - Regression"
   ]
  },
  {
   "cell_type": "markdown",
   "metadata": {
    "slideshow": {
     "slide_type": "slide"
    }
   },
   "source": [
    "## Outline\n",
    "\n",
    "### Day three\n",
    "1. Dimension reduction\n",
    "    - Multidimension scaling\n",
    "    - Principal components\n",
    "2. Clustering\n",
    "    - Supervised\n",
    "    - Unsupervised"
   ]
  },
  {
   "cell_type": "markdown",
   "metadata": {
    "slideshow": {
     "slide_type": "slide"
    }
   },
   "source": [
    "## Statistics: what and why?\n",
    "\n",
    "### Overview\n",
    "<span style=\"color:red\"><b>Uncertainty is commonplace</b></span>\n",
    "\n",
    "* Describing or making statements about everyday items\n",
    "  * Large dog\n",
    "  * Small dog\n",
    "  * It will rain today\n",
    "  * The soup at That Restaurant is good\n",
    "  * Medicine X will alleviate your condition\n",
    "\n",
    "<b>Some uncertainty is manageable, some less so</b>"
   ]
  },
  {
   "cell_type": "markdown",
   "metadata": {
    "slideshow": {
     "slide_type": "slide"
    }
   },
   "source": [
    "#### Statistics is the discipline that tries to quantify uncertainty.\n",
    "Why is there uncertainty?\n",
    "- Variability in result\n",
    "  - Even automated systems (factories) do not produce invariant products\n",
    "- Variability in reference (large/small with respect to what)\n"
   ]
  },
  {
   "cell_type": "markdown",
   "metadata": {
    "slideshow": {
     "slide_type": "subslide"
    }
   },
   "source": [
    "<b>Statistics permits us to say:   </b>\n",
    "  <p style=\"font-family: verdana\"><span style=\"color:red\">We are 95% confident that the defect rate in production is less than $2 \\times 10^{-9}$ (2e-9; for factories that adhere to 6 sigma principles)</span></p>\n",
    "\n",
    "2e-9 is 1 in 50 million"
   ]
  },
  {
   "cell_type": "markdown",
   "metadata": {
    "slideshow": {
     "slide_type": "subslide"
    }
   },
   "source": [
    " <p style=\"font-family: calibri\">We will compute this later</p>"
   ]
  },
  {
   "cell_type": "markdown",
   "metadata": {
    "slideshow": {
     "slide_type": "slide"
    }
   },
   "source": [
    "## Statistics: What does it encompass?\n",
    "\n",
    "- Data Analysis  \n",
    "- Probability  \n",
    "- Inference (Generalization)  \n",
    "- Other techniques  "
   ]
  },
  {
   "cell_type": "markdown",
   "metadata": {
    "slideshow": {
     "slide_type": "subslide"
    }
   },
   "source": [
    "### Statistics: What does it encompass?\n",
    "  \n",
    "- Data Analysis  \n",
    "    -- Experimental design  \n",
    "    -- Data gathering  \n",
    "    -- Data cleaning  \n",
    "    -- *Descriptive statistics*  \n",
    "    -- *Data display*"
   ]
  },
  {
   "cell_type": "markdown",
   "metadata": {
    "slideshow": {
     "slide_type": "subslide"
    }
   },
   "source": [
    "### Statistics: What does it encompass?  \n",
    "  \n",
    "- Probability  \n",
    "    -- *Laws of chance* "
   ]
  },
  {
   "cell_type": "markdown",
   "metadata": {
    "slideshow": {
     "slide_type": "subslide"
    }
   },
   "source": [
    "### Statistics: What does it encompass?\n",
    "  \n",
    "  - Inference (Generalization)  \n",
    "    -- *t-test*  \n",
    "    -- *Linear models*  "
   ]
  },
  {
   "cell_type": "markdown",
   "metadata": {
    "slideshow": {
     "slide_type": "subslide"
    }
   },
   "source": [
    "### Statistics: What does it encompass?\n",
    "  \n",
    "- Other techniques  \n",
    "    -- *Dimension reduction*  \n",
    "    -- *Clustering*    "
   ]
  }
 ],
 "metadata": {
  "celltoolbar": "Slideshow",
  "kernelspec": {
   "display_name": "Python 3",
   "language": "python",
   "name": "python3"
  },
  "language_info": {
   "codemirror_mode": {
    "name": "ipython",
    "version": 3
   },
   "file_extension": ".py",
   "mimetype": "text/x-python",
   "name": "python",
   "nbconvert_exporter": "python",
   "pygments_lexer": "ipython3",
   "version": "3.5.2"
  }
 },
 "nbformat": 4,
 "nbformat_minor": 2
}
