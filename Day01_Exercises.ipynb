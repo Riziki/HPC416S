{
 "cells": [
  {
   "cell_type": "markdown",
   "metadata": {},
   "source": [
    "# Exercises\n",
    "\n",
    "1. Use StudentWeights.csv to:  \n",
    "  1. Find mean, median, mode, SD, IQR  \n",
    "  2. Calculate the values needed to construct a box-and-whisker plot  \n",
    "    1. All data\n",
    "    2. Males and females separately\n",
    "2. Copy dataset and **add** to the dataset  \n",
    "  1. males with weights 50, 60, 110,120,130 \n",
    "  2. females with weights 30, 40, 70, 80, 90\n",
    "3. Repeat #1  \n",
    "\n",
    "4. Calculate the 95% confidence using the  \n",
    "  - Standard Normal, and   \n",
    "  - Student t distributions  \n",
    "For all, males, females\n",
    "  - with and without the outliers\n",
    "\n",
    "Using the Nightingale.csv data   \n",
    "\n",
    "1. Construct a stacked histogram of cause of death"
   ]
  },
  {
   "cell_type": "code",
   "execution_count": 54,
   "metadata": {},
   "outputs": [
    {
     "name": "stdout",
     "output_type": "stream",
     "text": [
      "IQR:      11.50\n",
      "1.5*IQR:  17.25\n",
      "Range:    55.00\n",
      "Median:   66.00\n",
      "Min:      43.00\n",
      "Max:      98.00\n"
     ]
    }
   ],
   "source": [
    "import pandas as pd\n",
    "import numpy as np\n",
    "import matplotlib.pyplot as plt\n",
    "import statistics as stat\n",
    "\n",
    "Students = pd.read_csv('static/Data/StudentWeights.csv')\n",
    "\n",
    "allStats = dict()\n",
    "mStats = dict()\n",
    "fStats = dict()\n",
    "\n",
    "allStats['quants'] = np.percentile(Students['Weight'],[0,25,50,75,100])\n",
    "allStats['iqr']= allStats['quants'][3]-allStats['quants'][1]\n",
    "print(\"IQR:     %6.2f\" % (allStats['iqr']) )\n",
    "allStats['iqr15']=1.5*allStats['iqr']\n",
    "print(\"1.5*IQR: %6.2f\" % (allStats['iqr15']) )\n",
    "print(\"Range:   %6.2f\" % (allStats['quants'][4]- allStats['quants'][0]) )\n",
    "print(\"Median:  %6.2f\" % (allStats['quants'][2]) )\n",
    "print(\"Min:     %6.2f\" % (allStats['quants'][0]) )\n",
    "print(\"Max:     %6.2f\" % (allStats['quants'][4]) )\n",
    "\n"
   ]
  },
  {
   "cell_type": "markdown",
   "metadata": {},
   "source": [
    "Use some \"slicing magic\":  \n",
    "- 1:4 extracts 1,2,3 \n",
    "- but 1:4:2 does it in increments of 2, i.e., 1,3   \n",
    "  \n",
    "Alternatively we can use **slice(1,3)** as the slicing index  \n",
    "\n",
    "As is usual for python, one needs to specify one more element than desired therefore the 1:4 to start with"
   ]
  },
  {
   "cell_type": "code",
   "execution_count": 33,
   "metadata": {},
   "outputs": [
    {
     "name": "stdout",
     "output_type": "stream",
     "text": [
      "Outer limits: [41.75 87.75]\n",
      "Number of outliers below:  0\n",
      "Number of outliers above:  2\n"
     ]
    }
   ],
   "source": [
    "allStats['outLimit']=allStats['quants'][1:4:2]\n",
    "allStats['outLimit'][0]=allStats['outLimit'][0]-allStats['iqr15']\n",
    "allStats['outLimit'][1]=allStats['outLimit'][1]+allStats['iqr15']\n",
    "print(\"Outer limits: \"+ str(allStats['outLimit']) )\n",
    "print(\"Number of outliers below: %2d\" %(sum(Students['Weight']<=allStats['outLimit'][0])) )\n",
    "print(\"Number of outliers above: %2d\" %(sum(Students['Weight']>=allStats['outLimit'][1])) )\n"
   ]
  },
  {
   "cell_type": "code",
   "execution_count": 53,
   "metadata": {},
   "outputs": [
    {
     "name": "stdout",
     "output_type": "stream",
     "text": [
      "[43. 59. 65. 70. 85.]\n"
     ]
    }
   ],
   "source": [
    "# Remove the outliers  \n",
    "from itertools import compress\n",
    "weights = Students['Weight'].tolist()\n",
    "#weights = weights[ weights <=allStats['outLimit'][0] and weights >=allStats['outLimit'][1] ]\n",
    "weights = list( compress( weights, \\\n",
    "                        np.asarray(weights > allStats['outLimit'][0]) & np.asarray(weights < allStats['outLimit'][1]) \\\n",
    "                        ) )\n",
    "print(np.percentile(weights,[0,25,50,75,100]))\n"
   ]
  }
 ],
 "metadata": {
  "kernelspec": {
   "display_name": "Python 3",
   "language": "python",
   "name": "python3"
  },
  "language_info": {
   "codemirror_mode": {
    "name": "ipython",
    "version": 3
   },
   "file_extension": ".py",
   "mimetype": "text/x-python",
   "name": "python",
   "nbconvert_exporter": "python",
   "pygments_lexer": "ipython3",
   "version": "3.6.4"
  }
 },
 "nbformat": 4,
 "nbformat_minor": 2
}
