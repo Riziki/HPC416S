{
 "cells": [
  {
   "cell_type": "markdown",
   "metadata": {},
   "source": [
    "# Birthday problem\n",
    "\n",
    "In probability theory, the birthday problem or birthday paradox concerns the probability that, in a set of n randomly chosen people, some pair of them will have the same birthday.   \n",
    "\n",
    "The probability reaches 100% when the number of people reaches 367 (since there are only 366 possible birthdays, including February 29).  \n",
    "\n",
    "99.9% probability is reached with just **70** people, and   \n",
    "50% probability with **23** people. \n",
    "\n",
    "These conclusions are based on the assumption that each day of the year (excluding February 29) is equally probable for a birthday."
   ]
  },
  {
   "cell_type": "markdown",
   "metadata": {},
   "source": [
    "Let A be:  \n",
    "- the probability that at least two people share a birthday  \n",
    "\n",
    "It is easier to calculate p(A') \\[P(not A)\\]  \n",
    "\n",
    "For 23 people this is the product of a series of conditional probabilities starting with 365/365 \n",
    "The first person is guaranteed to have a birthday  \n",
    "For each subsequent person we subtract a day from the numerator since it is already \"taken\" by the prior individuals  \n",
    "\n",
    "**Remember: when we say \"AND\" in probability, we mutipley\"  \n",
    "$$P(A')=\\frac{365}{365}\\times\\frac{364}{365}\\times \\cdots \\times \\frac{343}{365}$$\n",
    "\n"
   ]
  },
  {
   "cell_type": "markdown",
   "metadata": {},
   "source": [
    "We can compute this as:\n",
    "\n",
    "$$P(A')=(\\frac{1}{365})^{23} \\times (365 \\times 364 \\times \\cdots \\times 343)$$\n",
    "\n"
   ]
  },
  {
   "cell_type": "code",
   "execution_count": 17,
   "metadata": {},
   "outputs": [
    {
     "name": "stdout",
     "output_type": "stream",
     "text": [
      "Probability of at least one shared birthday \n",
      " among 23 people: 0.5073\n"
     ]
    }
   ],
   "source": [
    "import numpy as np\n",
    "\n",
    "a = np.arange(365,342,-1)\n",
    "a = a/1.0                # Coerce a to be a float otherwise we can get a silent overflow\n",
    "                         # That is the value returned is Value modulo max(int value) \n",
    "a = np.prod(a,axis=0)\n",
    "A = (1/365)**23\n",
    "A = A*a\n",
    "A\n",
    "print(\"Probability of at least one shared birthday \\n among 23 people: %6.4f\" %(1-A))"
   ]
  },
  {
   "cell_type": "code",
   "execution_count": 29,
   "metadata": {},
   "outputs": [
    {
     "name": "stdout",
     "output_type": "stream",
     "text": [
      "Probability of at least one shared birthday \n",
      " among 3 people: 0.0082\n"
     ]
    }
   ],
   "source": [
    "# Let us generalize this:\n",
    "\n",
    "n = 3\n",
    "a = np.arange(365,(365 - n),-1)\n",
    "a = a/1.0\n",
    "a = np.prod(a,axis=0)\n",
    "A = (1/365)**n\n",
    "A = A*a\n",
    "print(\"Probability of at least one shared birthday \\n among %d people: %6.4f\" %(n, (1-A)))"
   ]
  },
  {
   "cell_type": "code",
   "execution_count": 45,
   "metadata": {},
   "outputs": [
    {
     "data": {
      "text/plain": [
       "0.9941"
      ]
     },
     "execution_count": 45,
     "metadata": {},
     "output_type": "execute_result"
    }
   ],
   "source": [
    "# Let us generalize this even further\n",
    "\n",
    "def birthdayProb( n ):\n",
    "    \"Computes the probability that at least two people in a set of *n* share a birthday\"\n",
    "    a = np.arange(365,(365 - n),-1)\n",
    "    a = a/1.0\n",
    "    a = np.prod(a,axis=0)\n",
    "    A = (1/365)**n\n",
    "    A = A*a\n",
    "    return 1-A\n",
    "\n",
    "round(birthdayProb(60),4)"
   ]
  }
 ],
 "metadata": {
  "kernelspec": {
   "display_name": "Python 3",
   "language": "python",
   "name": "python3"
  },
  "language_info": {
   "codemirror_mode": {
    "name": "ipython",
    "version": 3
   },
   "file_extension": ".py",
   "mimetype": "text/x-python",
   "name": "python",
   "nbconvert_exporter": "python",
   "pygments_lexer": "ipython3",
   "version": "3.6.4"
  }
 },
 "nbformat": 4,
 "nbformat_minor": 2
}
