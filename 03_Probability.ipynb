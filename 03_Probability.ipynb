{
 "cells": [
  {
   "cell_type": "markdown",
   "metadata": {
    "slideshow": {
     "slide_type": "slide"
    }
   },
   "source": [
    "# Introduction to Statistics\n",
    "\n",
    "Gerard Tromp, Prof Bioinformatics, FMHS Stellenbosch\n",
    "\n",
    "2018-02-26"
   ]
  },
  {
   "cell_type": "markdown",
   "metadata": {
    "slideshow": {
     "slide_type": "slide"
    }
   },
   "source": [
    "# Probability\n",
    "\n",
    "- Fundamental to statistics  \n",
    "- Describes the outcomes of processes numerically  \n",
    "- Means of quantifying uncertainty  \n",
    "- Historically based on games of chance (gambling)  "
   ]
  },
  {
   "cell_type": "markdown",
   "metadata": {
    "slideshow": {
     "slide_type": "slide"
    }
   },
   "source": [
    "## Probability theory\n",
    "\n",
    "- Chevalier de Mere circa 1650  \n",
    "  - game of dice  \n",
    "     - one six in 4 throws (single die)  \n",
    "     - one double-six in 24 throws (pair of dice)  \n",
    "- Blaise Pascal and Pierre de Fermat"
   ]
  },
  {
   "cell_type": "markdown",
   "metadata": {
    "slideshow": {
     "slide_type": "subslide"
    }
   },
   "source": [
    "![DieOutcomes](static/Figures/DiceAllStates.png)"
   ]
  },
  {
   "cell_type": "markdown",
   "metadata": {
    "slideshow": {
     "slide_type": "slide"
    }
   },
   "source": [
    "## Probability theory\n",
    "\n",
    "### Basic definitions (based on gaming)\n",
    "\n",
    "1. Random experiment  \n",
    "2. Elementary outcome  \n",
    "3. Sample space  "
   ]
  },
  {
   "cell_type": "markdown",
   "metadata": {
    "slideshow": {
     "slide_type": "subslide"
    }
   },
   "source": [
    "### Coin toss\n",
    "\n",
    "Outcomes:  \n",
    "- Elementary outcomes  \n",
    "  - Heads, Tails  \n",
    "- Sample space  \n",
    "  - {Heads, Tails} or $\\large\\{H,T\\}$\n"
   ]
  },
  {
   "cell_type": "markdown",
   "metadata": {
    "slideshow": {
     "slide_type": "notes"
    }
   },
   "source": [
    "- Curly braces is a representation of a set  \n",
    "- Elementary outcomes are elements in the set of outcomes  \n",
    "- Sample space is a set  "
   ]
  },
  {
   "cell_type": "markdown",
   "metadata": {
    "slideshow": {
     "slide_type": "slide"
    }
   },
   "source": [
    "### Probabilities\n",
    "\n",
    "- Sum of all outcomes = 1  \n",
    "- For \"fair\" die  \n",
    "  - sample space / outcome set is {1, 2, 3, 4, 5, 6}  \n",
    "  - probability for each is 1/6 (0.166667)  \n",
    "- For \"loaded\" die \n",
    "  - depends on loading (assume 1 appears 25% of the time)\n",
    "  - P({1,2,3,4,5,6}) =  P({1}) + P({2,3,4,5,6}) = 1\n",
    "  - $\\large 1 - P(\\{1\\}) = P(\\{2,3,4,5,6\\})$\n",
    "  - P(2) = 0.75/5 = 0.15 = P(3) = P(4) ..."
   ]
  },
  {
   "cell_type": "markdown",
   "metadata": {
    "slideshow": {
     "slide_type": "slide"
    }
   },
   "source": [
    "### Characteristic properties of probability \n",
    "<p>\n",
    "Probabilites are non-negative  \n",
    "The probability of any outcome O<sub>i</sub> is greater or equal to zero\n",
    "$$\\Large P(O_i) \\geq 0$$\n",
    "<p>\n",
    "The sum of all probabilities in a set of outcomes is equal to 1\n",
    "$$\\large \\sum_{i=1}^{n} P(O_i) = 1 $$\n",
    "\n"
   ]
  },
  {
   "cell_type": "markdown",
   "metadata": {
    "slideshow": {
     "slide_type": "slide"
    }
   },
   "source": [
    "### Assigning probabilites\n",
    "\n",
    "- Classical  \n",
    "- Frequentist  \n",
    "- Personal  \n",
    "\n",
    "- Objectivist   \n",
    "  - Frequentist  \n",
    "  - Classical  \n",
    "- Subjectivist (Bayesian)  \n",
    "  - Conditions on Personal  "
   ]
  },
  {
   "cell_type": "markdown",
   "metadata": {
    "slideshow": {
     "slide_type": "slide"
    }
   },
   "source": [
    "### Basic operations\n",
    "\n",
    "#### *Event* is a *set* of elementary outcomes  \n",
    "\n",
    "For the pairs of dice:  \n",
    "  \n",
    "\n",
    "| Event description | Event's elementary outcomes | Probability |  \n",
    "|:------------------|:---------------------------:|------------:|  \n",
    "| A: Dice add to 3  | {(1,2), (2,1)}               | P(A) = 2/36 |   \n",
    "| B: Dice add to 6  | {(1,5), (2,4), (3,3), (4,2), (5,1)} | P(B) = 5/36 |\n",
    "| C: Red die (first) shows 1 | {(1,1),(1,2),(1,3),(1,4),(1,5),(1,6)} | P(C) = 6/36 |\n",
    "| D: Green die (second) shows 2 | {(2,1),(2,2),(2,3),(2,4),(2,5),(2,6)} | P(D) = 6/36 |"
   ]
  },
  {
   "cell_type": "markdown",
   "metadata": {
    "slideshow": {
     "slide_type": "slide"
    }
   },
   "source": [
    "### Basic operations\n",
    "\n",
    "#### Event combination\n",
    "\n",
    "- Logical operations  \n",
    "For any given events **M** and **N**  \n",
    "  - M **and** N  \n",
    "  - M **or** N  \n",
    "  - **not** M  "
   ]
  },
  {
   "cell_type": "markdown",
   "metadata": {
    "slideshow": {
     "slide_type": "subslide"
    }
   },
   "source": [
    "#### Utility of event combination\n",
    "\n",
    "For the example with the dice:\n",
    "\n",
    "What is the probability that that either die shows a 1?\n",
    "![DieOutcomes](static/Figures/DiceAllStates.png)"
   ]
  },
  {
   "cell_type": "markdown",
   "metadata": {
    "slideshow": {
     "slide_type": "subslide"
    }
   },
   "source": [
    "#### Utility of event combination\n",
    "\n",
    "Let:  \n",
    "- C = red die == 1  \n",
    "- D = grean die == 1\n",
    "Then:\n",
    "- C = {(1,1),(1,2),(1,3),(1,4),(1,5),(1,6)}  \n",
    "- D = {(1,1),(2,1),(3,1),(4,1),(5,1),(6,1)}  \n",
    "\n",
    "**But there is overlap in outcomes**"
   ]
  },
  {
   "cell_type": "markdown",
   "metadata": {
    "slideshow": {
     "slide_type": "subslide"
    }
   },
   "source": [
    "#### Utility of event combination\n",
    "\n",
    "| Logical     | Set Notation |  \n",
    "|-------------|------------|  \n",
    "| C **or** D | C &cup; D |  \n",
    "| C **and** D | C &cap; D |  \n",
    "\n",
    "- C &cap; D  \n",
    "  - {(1,1)}  \n",
    "- C &cup; D  \n",
    "  - {(1,1),(1,2),(1,3),(1,4),(1,5),(1,6),(2,1),(3,1),(4,1),(5,1),(6,1)} "
   ]
  },
  {
   "cell_type": "markdown",
   "metadata": {
    "slideshow": {
     "slide_type": "slide"
    }
   },
   "source": [
    "### Rules for combining events\n",
    "\n",
    "#### **Addition Rule:**\n",
    "\n",
    "$$\\Large P(C\\enspace OR\\enspace D) = P(C) + P(D) - P(C\\enspace AND\\enspace D)$$\n",
    "\n",
    "As illustrated there is the overlap of {(1,1)} represent by P(C AND D) when adding P(C) + P(D) in this example\n",
    "\n",
    "#### **Special addition rule**\n",
    "\n",
    "**IF** P(C) and P(D) are **mutually exclusive**, then: \n",
    "- P(C AND D) = 0\n",
    "- P(C OR D) = P(C) + P(D) \\[- P(C &cup; D) = 0 \\]"
   ]
  },
  {
   "cell_type": "markdown",
   "metadata": {
    "slideshow": {
     "slide_type": "subslide"
    }
   },
   "source": [
    "### Rules for combining events\n",
    "\n",
    "#### **Subtraction Rule:**  \n",
    "\n",
    "For any event E:\n",
    "\n",
    "$$\\large P(E) = 1 - P(NOT\\enspace E)$$\n",
    "\n"
   ]
  },
  {
   "cell_type": "markdown",
   "metadata": {
    "slideshow": {
     "slide_type": "slide"
    }
   },
   "source": [
    "## Conditional probability\n",
    "\n",
    "For pair of dice, what if the tosses were consecutive?  Red before green\n",
    "Let:  \n",
    "- A be sum of faces = 3\n",
    "- C be red = 1   \n",
    "  \n",
    "Then \n",
    "- P(A) = 2/36 since A={(1,2),(2,1)}\n",
    "- What is P(A|C)?"
   ]
  },
  {
   "cell_type": "markdown",
   "metadata": {
    "slideshow": {
     "slide_type": "subslide"
    }
   },
   "source": [
    "## Conditional probability\n",
    "\n",
    "$$\\large P(E|F) = \\frac{P(E\\enspace and\\enspace F)}{P(F)}$$\n",
    "  \n",
    "Lemma: \n",
    "  - P(E|E) = 1  \n",
    "   \n",
    "When E and F mutually exclusive:  \n",
    "  - P(E|F) = 0"
   ]
  },
  {
   "cell_type": "markdown",
   "metadata": {},
   "source": [
    "For mutually exclusive events:  \n",
    "- once one has occured the other is impossible "
   ]
  },
  {
   "cell_type": "markdown",
   "metadata": {
    "slideshow": {
     "slide_type": "subslide"
    }
   },
   "source": [
    "### Rules for combining events\n",
    "\n",
    "#### **Multiplication rule**\n",
    "\n",
    "$$\\large P(E\\enspace and\\enspace F) = P(E|F)P(F)$$\n",
    "  \n",
    "It follows that:  \n",
    "- P(F)P(E|F) = P(E)P(F|E)  \n",
    "  \n"
   ]
  },
  {
   "cell_type": "markdown",
   "metadata": {
    "slideshow": {
     "slide_type": "subslide"
    }
   },
   "source": [
    "### Rules for combining events\n",
    "\n",
    "#### **Special multiplication rule**\n",
    "\n",
    "For independent events:  \n",
    "**axiom** P(E|F) == P(E)\n",
    "  \n",
    "  \n",
    "$$\\large P(E\\enspace and\\enspace F) = P(E)P(F)$$"
   ]
  },
  {
   "cell_type": "markdown",
   "metadata": {
    "slideshow": {
     "slide_type": "slide"
    }
   },
   "source": [
    "## Summary of rules of probability\n",
    "\n",
    "1. Addition rule\n",
    "2. Subtraction rule\n",
    "3. Multiplication rule"
   ]
  },
  {
   "cell_type": "markdown",
   "metadata": {
    "slideshow": {
     "slide_type": "slide"
    }
   },
   "source": [
    "## Solving de Mere's problems\n",
    "\n",
    "1. one six in 4 throws (single die)  \n",
    "2. one double-six in 24 throws (pair of dice)  \n"
   ]
  },
  {
   "cell_type": "markdown",
   "metadata": {
    "slideshow": {
     "slide_type": "subslide"
    }
   },
   "source": [
    "### one six in 4 throws (single die)\n",
    "\n",
    "- throws are independent  \n",
    "- P(A) = P(not 6) = 1 - 1/6 = 5/6  \n",
    "  - per throw\n",
    "- P(E) = P(6) in 4 throws = 1 - P(not E)\n",
    "  \n",
    "Then:  \n",
    "\n",
    "P(not E) = P(A<sub>1</sub> and A<sub>2</sub> and A<sub>3</sub> and A<sub>4</sub>) = $(\\frac{5}{6})^4$ = 0.482\n",
    "  \n",
    "P(E) =  1 - P(not E) = 1 - 0.482 = **0.518**\n",
    "  \n"
   ]
  },
  {
   "cell_type": "markdown",
   "metadata": {
    "slideshow": {
     "slide_type": "subslide"
    }
   },
   "source": [
    "### one double six in 24 throws (pair of  dice)\n",
    "\n",
    "- throws are independent  \n",
    "- P(B) = P(not double 6) = 1 - 1/36 = 35/36  \n",
    "  - per throw of pair of dice\n",
    "- P(F) = P(d6) in 24 throws = 1 - P(not F)\n",
    "  \n",
    "Then:  \n",
    "\n",
    "P(not F) = P(B<sub>1</sub> and B<sub>2</sub> and &hellip; and  A<sub>24</sub>) = $(\\frac{35}{36})^{24}$ = 0.509\n",
    "  \n",
    "P(F) =  1 - P(not F) = 1 - 0.509 = **0.491**"
   ]
  },
  {
   "cell_type": "markdown",
   "metadata": {
    "slideshow": {
     "slide_type": "slide"
    }
   },
   "source": [
    "## Extending rules of probability\n",
    "\n",
    "### Bayes' theorem\n",
    "\n",
    "Assume:\n",
    "1. Disease affects 1/10,000 individuals  \n",
    "2. Test can detect disease  \n",
    "  1. Positive 99% of the time if person has disease  \n",
    "  2. Positive 2% of the time if person DOES NOT have the disease  \n",
    "\n",
    "<span style=\"color:red\">*You just tested positive, what is the probability you have the disease?*<span>"
   ]
  },
  {
   "cell_type": "markdown",
   "metadata": {
    "slideshow": {
     "slide_type": "subslide"
    }
   },
   "source": [
    "### Bayes example\n",
    "\n",
    "Let the events be:  \n",
    "- A: person has disease\n",
    "- B: person tests positive  \n",
    "\n",
    "P(A) = 1/10000 = **0.0001**  \n",
    "P(B|A) = **0.99**  \n",
    "P(B|not A) = **0.02**  \n",
    "\n",
    "We want to know:  \n",
    "**P(A|B)**"
   ]
  },
  {
   "cell_type": "markdown",
   "metadata": {
    "slideshow": {
     "slide_type": "subslide"
    }
   },
   "source": [
    "### Bayes example\n",
    "\n",
    "Construct contigency table:  \n",
    "\n",
    "|  | A | (not A) |  \n",
    "|--|---|---------|  \n",
    "| **B** | A and B | (not A) and B |  \n",
    "| **(not B)** | A and (not B) | (not A) and (not B) |  \n",
    "\n",
    "|  | A | (not A) |  sum<sub>r</sub> |  \n",
    "|--|---|---------|  \n",
    "| **B** | (A and B) | P((not A) and B) | P(B) |  \n",
    "| **(not B)** | P(A and (not B)) | P((not A) and (not B)) | P( not B) |   \n",
    "| **sum<sub>r</sub>** | p(A)  | P(not A) | 1 |  \n"
   ]
  },
  {
   "cell_type": "markdown",
   "metadata": {
    "slideshow": {
     "slide_type": "slide"
    }
   },
   "source": [
    "**Note**\n",
    "\n",
    "The generalized 2x2 contingency table format is:\n",
    "  \n",
    "| | T | F |  \n",
    "|-|---|---|  \n",
    "| **T** | a | b |  \n",
    "| **F** | c | d |  \n",
    "\n",
    "So that we can easily refer to the cells"
   ]
  },
  {
   "cell_type": "markdown",
   "metadata": {
    "slideshow": {
     "slide_type": "subslide"
    }
   },
   "source": [
    "### Bayes example\n",
    "\n",
    "We can now compute:  \n",
    "- p(A and B) = p(B|A)P(A) = (0.99)\\*(0.0001) = 0.00099  \n",
    "- p((not A) and B) = P(B|(not A)) = (0.02)(0.9999) - \n"
   ]
  },
  {
   "cell_type": "code",
   "execution_count": 18,
   "metadata": {
    "slideshow": {
     "slide_type": "subslide"
    }
   },
   "outputs": [
    {
     "name": "stdout",
     "output_type": "stream",
     "text": [
      "A and B = 0.000099\n",
      "not A   = 0.019998\n",
      "B       = 0.020097\n"
     ]
    }
   ],
   "source": [
    "A = 0.0001\n",
    "BnotA = 0.02\n",
    "BgA = 0.99\n",
    "AandB = (BgA*A)\n",
    "notAandB  = (1- (A))*BnotA\n",
    "print(\"A and B = %8.6f\" % AandB )\n",
    "print(\"not A   = %8.6f\" %  notAandB )\n",
    "print(\"B       = %8.6f\" % (AandB + notAandB))\n"
   ]
  },
  {
   "cell_type": "markdown",
   "metadata": {
    "slideshow": {
     "slide_type": "subslide"
    }
   },
   "source": [
    "### Bayes example\n",
    "\n",
    "|  | A | (not A) |  sum<sub>r</sub> |  \n",
    "|--|---|---------|  \n",
    "| **B** | 0.000099  | 0.019998 | 0.020097 |  \n",
    "| **(not B)** | P(A and (not B)) | P((not A) and (not B)) | P( not B) |   \n",
    "| **sum<sub>r</sub>** | 0.0001  | 0.9999 | 1 |  \n",
    "\n"
   ]
  },
  {
   "cell_type": "code",
   "execution_count": 19,
   "metadata": {
    "slideshow": {
     "slide_type": "subslide"
    }
   },
   "outputs": [
    {
     "name": "stdout",
     "output_type": "stream",
     "text": [
      "A and not B     = 0.000001\n",
      "not A and not B = 0.979902\n"
     ]
    }
   ],
   "source": [
    "print(\"A and not B     = %8.6f\" % (A - AandB) )\n",
    "print(\"not A and not B = %8.6f\" % ( (1-A)- notAandB   ) )\n"
   ]
  },
  {
   "cell_type": "markdown",
   "metadata": {
    "slideshow": {
     "slide_type": "subslide"
    }
   },
   "source": [
    "### Bayes example\n",
    "\n",
    "|  | A | (not A) |  sum<sub>r</sub> |  \n",
    "|--|---|---------|  \n",
    "| **B** | **0.000099**  | 0.019998 | **0.020097** |  \n",
    "| **(not B)** | 0.000001 |0.979902 | 0.979903 |   \n",
    "| **sum<sub>r</sub>** | 0.0001  | 0.9999 | 1 |  \n",
    "  \n",
    "We want $\\large\\enspace P(A|B) = \\frac{P(A\\enspace and\\enspace B)}{P(B)}$ \n"
   ]
  },
  {
   "cell_type": "code",
   "execution_count": 20,
   "metadata": {
    "slideshow": {
     "slide_type": "subslide"
    }
   },
   "outputs": [
    {
     "name": "stdout",
     "output_type": "stream",
     "text": [
      "A given B = 0.004926\n"
     ]
    }
   ],
   "source": [
    "## Calculate P(A|B) \n",
    "\n",
    "print(\"A given B = %8.6f\" % (AandB/(AandB + notAandB)) )"
   ]
  },
  {
   "cell_type": "markdown",
   "metadata": {
    "slideshow": {
     "slide_type": "slide"
    }
   },
   "source": [
    "## Bayes' theorem\n",
    "\n",
    "$$ P(A|B) = \\frac{P(B)P(B|A)}{P(A)P(B|A)+P(not\\enspace A)P(B|not\\enspace A)}$$  \n",
    "  \n",
    "$$ = \\frac{P(A\\enspace and B)}{P(A\\enspace and B)+P((not\\enspace A)\\enspace and\\enspace B)}$$\n",
    "  \n",
    "$$ = \\frac{P(A\\enspace and\\enspace B)}{P(B)}$$\n",
    "  \n",
    "$$ = P(A|B)$$"
   ]
  }
 ],
 "metadata": {
  "celltoolbar": "Slideshow",
  "kernelspec": {
   "display_name": "Python 3",
   "language": "python",
   "name": "python3"
  },
  "language_info": {
   "codemirror_mode": {
    "name": "ipython",
    "version": 3
   },
   "file_extension": ".py",
   "mimetype": "text/x-python",
   "name": "python",
   "nbconvert_exporter": "python",
   "pygments_lexer": "ipython3",
   "version": "3.6.4"
  }
 },
 "nbformat": 4,
 "nbformat_minor": 2
}
