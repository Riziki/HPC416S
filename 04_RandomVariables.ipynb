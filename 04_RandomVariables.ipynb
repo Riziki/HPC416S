{
 "cells": [
  {
   "cell_type": "markdown",
   "metadata": {
    "slideshow": {
     "slide_type": "slide"
    }
   },
   "source": [
    "# Introduction to Statistics\n",
    "\n",
    "Gerard Tromp, Prof Bioinformatics, FMHS Stellenbosch\n",
    "\n",
    "2018-02-26"
   ]
  },
  {
   "cell_type": "markdown",
   "metadata": {
    "slideshow": {
     "slide_type": "slide"
    }
   },
   "source": [
    "## Random variables\n",
    "\n",
    "A random variable **X** is: **the numerical outcome of a random experiment**  \n",
    "\n",
    "Coin toss:  \n",
    "\n",
    "| outcome | TT | HT or TT | HH |  \n",
    "|----|----|:-----:|-----|  \n",
    "| x | 0 | 1 | 2 |  \n",
    "\n",
    "Probabilities:   \n",
    "\n",
    "| x | 0 | 1 | 2 |  \n",
    "|----|----|:-----:|-----|  \n",
    "| P(X=x) | 0.25 | 0.5 | 0.25 |  \n",
    "\n"
   ]
  },
  {
   "cell_type": "markdown",
   "metadata": {
    "slideshow": {
     "slide_type": "slide"
    }
   },
   "source": [
    "## Density histogram of coin toss\n",
    "\n",
    "Instead of frequency, we plot the *relative frequency* at  \n",
    "- value of outcome\n",
    "  \n",
    "<p>  \n",
    "<p>  \n",
    "Generically these are called:    \n",
    "- Called a density histogram (**discrete** values)  \n",
    "    -- Probability histogram\n",
    "- Probability density plot (**continuous** values)"
   ]
  },
  {
   "cell_type": "code",
   "execution_count": 2,
   "metadata": {
    "slideshow": {
     "slide_type": "subslide"
    }
   },
   "outputs": [
    {
     "data": {
      "image/png": "[encoded data removed]",
      "text/plain": [
       "<matplotlib.figure.Figure at 0x7f44ae0ff160>"
      ]
     },
     "metadata": {},
     "output_type": "display_data"
    }
   ],
   "source": [
    "import matplotlib.pyplot as plt\n",
    "import numpy as np\n",
    "\n",
    "a = [0,1,1,2]\n",
    "fig,ax = plt.subplots()\n",
    "plt.xticks((0.5,1.5,2.5))\n",
    "ax.set_xticklabels((0,1,2))\n",
    "plt.hist(a,bins=(0,1,2,3),density=True) \n",
    "plt.show()\n"
   ]
  },
  {
   "cell_type": "markdown",
   "metadata": {
    "slideshow": {
     "slide_type": "slide"
    }
   },
   "source": [
    "## Density histogram of coin toss\n",
    "\n",
    "Area under the curve (AUC) is **1**  \n",
    "- 0.25 + 0.5 + 0.25 \n",
    "\n",
    "This will be true for all other distributions used in statistics. \n",
    "  \n",
    "<p>  \n",
    "<p>  \n",
    "A probability density function (PDF)  \n",
    "- Generates the values for a density plot  \n",
    "\n"
   ]
  },
  {
   "cell_type": "markdown",
   "metadata": {
    "slideshow": {
     "slide_type": "slide"
    }
   },
   "source": [
    "## Probability (density) histogram for student weight\n",
    "\n",
    "We can convert the student weight histogram to a probability histogram  \n",
    "We divide each bin (column height) by the total number of observations (n)  "
   ]
  },
  {
   "cell_type": "code",
   "execution_count": 3,
   "metadata": {
    "slideshow": {
     "slide_type": "subslide"
    }
   },
   "outputs": [
    {
     "data": {
      "image/png": "[encoded data removed]",
      "text/plain": [
       "<matplotlib.figure.Figure at 0x7f45091df588>"
      ]
     },
     "metadata": {},
     "output_type": "display_data"
    }
   ],
   "source": [
    "import pandas\n",
    "weights = pandas.read_csv(\"static/Data/StudentWeights.csv\")\n",
    "\n",
    "fig, ax = plt.subplots()\n",
    "a=plt.hist(weights['Weight'], bins=10, density=True)  # arguments are passed to np.histogram\n",
    "plt.title(\"Density Histogram\")\n",
    "plt.show()"
   ]
  },
  {
   "cell_type": "markdown",
   "metadata": {
    "slideshow": {
     "slide_type": "subslide"
    }
   },
   "source": [
    "#### We notice an error in the \"density\" plot\n",
    "\n",
    "For some reason the density cannot possibly sum to 1   \n",
    "  \n",
    "<p>\n",
    "The greatest \"density\" is about 0.06  \n",
    "- 10 bins * max(density) <= 0.6"
   ]
  },
  {
   "cell_type": "code",
   "execution_count": 91,
   "metadata": {
    "slideshow": {
     "slide_type": "subslide"
    }
   },
   "outputs": [
    {
     "name": "stdout",
     "output_type": "stream",
     "text": [
      "[0.003996   0.01598402 0.02797203 0.02597403 0.06193806 0.01398601\n",
      " 0.01198801 0.01598402 0.001998   0.001998  ]\n",
      "\n",
      "The sum of the \"densities\" is: 0.181818\n",
      "\n",
      "[0.02197802 0.08791209 0.15384615 0.14285714 0.34065934 0.07692308\n",
      " 0.06593407 0.08791209 0.01098901 0.01098901]\n",
      "\n",
      "Now the sum is: 1.000000\n"
     ]
    }
   ],
   "source": [
    "print(a[0])\n",
    "print(\"\\nThe sum of the \\\"densities\\\" is: %8.6f\\n\" % (sum(a[0])) )\n",
    "a=list(a)\n",
    "a[0] = a[0]/sum(a[0])\n",
    "print(a[0])\n",
    "print(\"\\nNow the sum is: %8.6f\" %(sum(a[0])) )\n"
   ]
  },
  {
   "cell_type": "markdown",
   "metadata": {
    "slideshow": {
     "slide_type": "subslide"
    }
   },
   "source": [
    "#### Density histogram using matplotlib\n",
    "\n",
    "We have fixed the problem in the standard implementation  \n",
    "\n",
    "Now we need to plot the histogram  \n",
    "-  Cannot use the original object  \n",
    "  - tuple with one list of \"densities\"  \n",
    "  - another list with begin **and** end-points on x-axis  \n",
    "  - x list is one longer than y list\n",
    "  \n",
    "Need to convert to two lists of equal length  "
   ]
  },
  {
   "cell_type": "code",
   "execution_count": 92,
   "metadata": {
    "slideshow": {
     "slide_type": "subslide"
    }
   },
   "outputs": [
    {
     "data": {
      "image/png": "[encoded data removed]",
      "text/plain": [
       "<matplotlib.figure.Figure at 0x19b57410>"
      ]
     },
     "metadata": {},
     "output_type": "display_data"
    }
   ],
   "source": [
    "x=a[1]\n",
    "x1=x[:-1] # slice to remove last element\n",
    "x2=x[1:]  # slice to remove first element\n",
    "x=x1+(x2-x1)\n",
    "plt.bar(x=x,height=a[0], align='center', width=(x2-x1))\n",
    "plt.show()"
   ]
  },
  {
   "cell_type": "markdown",
   "metadata": {
    "slideshow": {
     "slide_type": "slide"
    }
   },
   "source": [
    "## Mean of a random variable\n",
    "\n",
    "Recall definition of mean:  \n",
    "$$ \\bar x = \\frac{1}{n}\\sum\\limits_{i=1}{n} x_i $$\n",
    "\n",
    "We can redefine as:  \n",
    "$$ \\bar x = \\frac{1}{n} \\sum\\limits_{\\forall\\enspace x}{} n_xx $$  \n",
    "\n",
    "Which reduces to:  \n",
    "$$ \\bar x = \\sum_{\\forall\\enspace x} x\\frac{n_x}{n} $$\n"
   ]
  },
  {
   "cell_type": "markdown",
   "metadata": {},
   "source": [
    "## Mean of a random variable\n",
    "  \n",
    "But:  \n",
    "-  $ \\frac{n_x}{x} $ is the relative frequency\n",
    "- relative frequency is p(x)  \n",
    "\n",
    "Therefore we can define:  \n",
    "- The **mean of the probability distribution** as:  \n",
    "\n",
    "$$ \\mu = \\sum_{\\forall\\enspace x} x\\cdot p(x)$$  \n",
    "Also called the **expected value** of x: E[X]  \n",
    "\n"
   ]
  },
  {
   "cell_type": "markdown",
   "metadata": {},
   "source": [
    "## Var and SD of a random variable\n",
    "\n",
    "In a similar way, we can define the **variance** as:\n",
    "\n",
    "$$ \\sigma^2 =\\sum_{\\forall\\enspace x} (x-\\mu)^2p(x) $$  \n",
    "\n",
    "And the **standard deviation** as:\n",
    "\n",
    "$$ \\sigma = \\sqrt{\\sum_{\\forall\\enspace x} (x-\\mu)^2p(x)} $$"
   ]
  },
  {
   "cell_type": "markdown",
   "metadata": {
    "slideshow": {
     "slide_type": "slide"
    }
   },
   "source": [
    "## Continuous variables\n",
    "\n",
    "Up to now, we have worked with **discrete** variables  \n",
    "- Finite number *or* countable outcomes  \n",
    "\n",
    "For **continous variables**  \n",
    "- Infinite outcomes  \n",
    "- therefore, **p(x) = 0**  \n",
    "\n"
   ]
  },
  {
   "cell_type": "markdown",
   "metadata": {
    "slideshow": {
     "slide_type": "subslide"
    }
   },
   "source": [
    "## Continuous variables\n",
    "\n",
    "Have to define outcomes between limits  \n",
    "Let:  \n",
    "- f(x) = 0 when x < 0  \n",
    "- f(x) = 0 when x > 1  \n",
    "- f(x) = 1 when 0 <= x <= 1  \n",
    "\n",
    "<p>  \n",
    "<p>  \n",
    "Probability of an event between a and b:\n",
    "- if  \n",
    "  - 0 <= a <= 1  \n",
    "  - 0 <= b <= 1  \n",
    "  - a < b   \n",
    "- area under the curve between a **and** b  \n"
   ]
  },
  {
   "cell_type": "markdown",
   "metadata": {
    "slideshow": {
     "slide_type": "subslide"
    }
   },
   "source": [
    "## Continuous variables\n",
    "\n",
    "This translates to an integral (calculus):\n",
    "\n",
    "$$ p(x|a,b)  = \\int_{a}^{b} f(x)\\cdot dx $$"
   ]
  },
  {
   "cell_type": "markdown",
   "metadata": {
    "slideshow": {
     "slide_type": "slide"
    }
   },
   "source": [
    "## Mean and variance of continuous variables\n",
    "\n",
    "Mean:  \n",
    "$$ \\mu = \\int_{-\\infty}^{\\infty} x\\cdot f(x)\\cdot dx $$  \n",
    "\n",
    "Variance:  \n",
    "$$ \\sigma^2 = \\int_{-\\infty}^{\\infty} (x-\\mu)^2\\cdot f(x)\\cdot dx $$  "
   ]
  },
  {
   "cell_type": "code",
   "execution_count": 105,
   "metadata": {
    "slideshow": {
     "slide_type": "subslide"
    }
   },
   "outputs": [],
   "source": [
    "import matplotlib.mlab as mlab\n",
    "import math\n",
    "from scipy.stats.kde import gaussian_kde\n",
    "\n",
    "x = np.random.normal(0,1,10000) # generate some random normally distributed data\n",
    "kde = gaussian_kde( x ) ## Generate Gaussian kernel density\n",
    "dist_space = np.linspace( min(x), max(x), 200 )\n",
    "\n",
    "mu, variance = (0,1)\n",
    "sigma = math.sqrt(variance)\n",
    "x = np.linspace(mu - 5*sigma, mu + 5*sigma, 100)"
   ]
  },
  {
   "cell_type": "code",
   "execution_count": 106,
   "metadata": {
    "slideshow": {
     "slide_type": "subslide"
    }
   },
   "outputs": [
    {
     "data": {
      "text/plain": [
       "<bound method Figure.show of <matplotlib.figure.Figure object at 0x18751F70>>"
      ]
     },
     "execution_count": 106,
     "metadata": {},
     "output_type": "execute_result"
    },
    {
     "data": {
      "image/png": "[encoded data removed]",
      "text/plain": [
       "<matplotlib.figure.Figure at 0x1875c230>"
      ]
     },
     "metadata": {},
     "output_type": "display_data"
    }
   ],
   "source": [
    "plt.plot(x,mlab.normpdf(x, mu, sigma)) # Make density plot of mathematical Normal\n",
    "sigmaMultiples=[-4,-3,-2,-1,0,1,2,3,4]\n",
    "for xc in sigmaMultiples:\n",
    "    plt.axvline(x=xc, lw=0.5, alpha=0.5, color='red' )\n",
    "fig.show"
   ]
  },
  {
   "cell_type": "markdown",
   "metadata": {
    "slideshow": {
     "slide_type": "slide"
    }
   },
   "source": [
    "## The Standard Normal Distribution\n",
    "\n",
    "- Standard Normal (prior figure)  \n",
    "  - &mu; = 0\n",
    "  - &sigma; = 1  \n",
    "  \n",
    "<p>\n",
    "\n",
    "- For a distribution with properties   \n",
    "  - mound-shaped  (more data in the middle)\n",
    "  - unimodal  \n",
    "  - symmetrical  \n",
    " \n",
    "- Z transformation generates a Standard Normal  \n",
    "    "
   ]
  },
  {
   "cell_type": "code",
   "execution_count": 12,
   "metadata": {
    "slideshow": {
     "slide_type": "slide"
    }
   },
   "outputs": [],
   "source": [
    "from scipy.stats import norm   # import normal dist.\n",
    "\n",
    "# mean and standard deviation\n",
    "mu,sigma = 0,1  \n",
    "\n",
    "# normal_dist(mu,sigma)\n",
    "anorm = norm(loc=mu, scale=sigma)\n",
    "factors = [1,2,3,4]            # multiple of sigma\n",
    "alphas = [0.18, 0.11, 0.08]  # level of alpha\n",
    "\n",
    "# plot full normal curve\n",
    "segs = 1000\n",
    "x = np.linspace(anorm.ppf(0.00005), anorm.ppf(0.99995), segs)\n",
    "\n",
    "\n",
    "\n"
   ]
  },
  {
   "cell_type": "code",
   "execution_count": 13,
   "metadata": {
    "slideshow": {
     "slide_type": "subslide"
    }
   },
   "outputs": [
    {
     "name": "stderr",
     "output_type": "stream",
     "text": [
      "/usr/local/lib/python3.5/dist-packages/ipykernel_launcher.py:10: DeprecationWarning: object of type <class 'float'> cannot be safely interpreted as an integer.\n",
      "  # Remove the CWD from sys.path while we load stuff.\n"
     ]
    },
    {
     "data": {
      "image/png": "[encoded data removed]",
      "text/plain": [
       "<matplotlib.figure.Figure at 0x7f44a1b2cef0>"
      ]
     },
     "metadata": {},
     "output_type": "display_data"
    }
   ],
   "source": [
    "fig, ax = plt.subplots(1, 1)\n",
    "fig.set_size_inches(10,8)\n",
    "ax.plot(x, anorm.pdf(x), 'b-', lw=0.5, alpha=0.6)\n",
    "\n",
    "# plot color-filled portions\n",
    "for fac, alp in zip(factors, alphas):\n",
    "    # print(mu-fac*sigma, mu+fac*sigma, alp)\n",
    "    lo = mu-fac*sigma\n",
    "    hi = mu+fac*sigma\n",
    "    xs = np.linspace(lo, hi, fac*segs/4)  # prep array of x's\n",
    "    plt.fill_between(xs, anorm.pdf(xs), y2=0, where= xs >= lo , \\\n",
    "                     interpolate=False, \\\n",
    "                     color='blue', alpha=alp)\n",
    "\n",
    "plt.ylim(0, 0.41)\n",
    "\n",
    "plt.show()"
   ]
  },
  {
   "cell_type": "markdown",
   "metadata": {
    "slideshow": {
     "slide_type": "slide"
    }
   },
   "source": [
    "![StandardNormal](static/Figures/StandardNormal.png)"
   ]
  },
  {
   "cell_type": "markdown",
   "metadata": {
    "slideshow": {
     "slide_type": "slide"
    }
   },
   "source": [
    "## Standard Normal and other distributions\n",
    "\n",
    "We can use **Statistical Distributions** to:  \n",
    "- Compute probability  \n",
    "- Compute confidence intervals  \n",
    "\n",
    "Probability is the sum under the curve >= to the observation  \n",
    "- depends on hypothesis (<,>,<>)  \n",
    "- bidirectional from 0 for (<>) \n",
    "- proportion of AUC **not close** to &mu;\n",
    "\n",
    "Confidence intervals are the complement to Probability  \n",
    "- proportion of AUC **close** to &mu;\n",
    "- 1 &minus; P"
   ]
  },
  {
   "cell_type": "markdown",
   "metadata": {
    "slideshow": {
     "slide_type": "slide"
    }
   },
   "source": [
    "## Confidence intervals (CI)\n",
    "\n",
    "For a distribution (mound-shaped, symmetrical):  \n",
    "1. Compute the z<sub>i</sub>  \n",
    "2. Compute the SD\n",
    "3. Use the Standard Normal to calculate how many SD necessary to include the CI\n",
    "   - Z<sub>&alpha;/2</sub>\n",
    "4. Add SD &times; Z<sub>&alpha;/2</sub> &plusmn; to &mu;"
   ]
  },
  {
   "cell_type": "markdown",
   "metadata": {
    "slideshow": {
     "slide_type": "slide"
    }
   },
   "source": [
    "# Exercises\n",
    "\n",
    "1. Use StudentWieghts.csv to:  \n",
    "  1. Find mean, median, mode, SD, IQR  \n",
    "  2. Calculate the values needed to construct a box-and-whisker plot  \n",
    "    1. All data\n",
    "    2. Males and females separately\n",
    "2. Copy dataset and **add** to the dataset  \n",
    "  1. males with weights 50, 60, 110,120,130 \n",
    "  2. females with weights 30, 40, 70, 80, 90\n",
    "3. Repeat #1  "
   ]
  },
  {
   "cell_type": "markdown",
   "metadata": {
    "slideshow": {
     "slide_type": "slide"
    }
   },
   "source": [
    "#  Exercises\n",
    "\n",
    "4. Calculate the 95% confidence using the  \n",
    "  - Standard Normal, and   \n",
    "  - Student t distributions  \n",
    "For all, males, females\n",
    "  - with and without the outliers\n"
   ]
  },
  {
   "cell_type": "markdown",
   "metadata": {
    "slideshow": {
     "slide_type": "slide"
    }
   },
   "source": [
    "#  Exercises\n",
    "\n",
    "Using the Nightingale.csv data   \n",
    "\n",
    "1. Construct a stacked histogram of cause of death"
   ]
  }
 ],
 "metadata": {
  "celltoolbar": "Slideshow",
  "kernelspec": {
   "display_name": "Python 3",
   "language": "python",
   "name": "python3"
  },
  "language_info": {
   "codemirror_mode": {
    "name": "ipython",
    "version": 3
   },
   "file_extension": ".py",
   "mimetype": "text/x-python",
   "name": "python",
   "nbconvert_exporter": "python",
   "pygments_lexer": "ipython3",
   "version": "3.5.2"
  }
 },
 "nbformat": 4,
 "nbformat_minor": 2
}
