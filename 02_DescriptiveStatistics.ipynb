{
 "cells": [
  {
   "cell_type": "markdown",
   "metadata": {
    "slideshow": {
     "slide_type": "slide"
    }
   },
   "source": [
    "# Introduction to Statistics\n",
    "\n",
    "Gerard Tromp, Prof Bioinformatics, FMHS Stellenbosch\n",
    "\n",
    "2018-02-26"
   ]
  },
  {
   "cell_type": "markdown",
   "metadata": {
    "slideshow": {
     "slide_type": "slide"
    }
   },
   "source": [
    "## Statistics: Data analysis\n",
    "\n",
    "### Descriptive Statistics\n",
    "<span style=\"color:red\"><b>A statistic is a single value that summarizes an aspect of data from a sample</b></span>\n",
    "- What statistics are you aware of?\n",
    "\n",
    "- Sometimes it is necessary to use graphical summaries of data"
   ]
  },
  {
   "cell_type": "markdown",
   "metadata": {
    "slideshow": {
     "slide_type": "slide"
    }
   },
   "source": [
    "### Some data\n",
    "\n",
    "A class of university students was asked to self-report their weight:\n",
    "\n",
    "\n",
    "\n"
   ]
  },
  {
   "cell_type": "markdown",
   "metadata": {
    "slideshow": {
     "slide_type": "subslide"
    }
   },
   "source": [
    "#### Some data\n",
    "\n",
    "Males: \n",
    "                         \n",
    "|  A |  B |  C |  D |  E |  F |  G | H  |  I |  J |  K |  L |  M |  N |  O |  P |  Q |  R |  S |\n",
    "| -- | -- | -- | -- | -- | -- | -- | -- | -- | -- | -- | -- | -- | -- | -- | -- | -- | -- | -- |\n",
    "| 80 | 85 | 71 | 63 | 65 | 68 | 70 | 77 | 64 | 75 | 59 | 82 | 70 | 60 | 70 | 70 | 68 | 65 | 55 | \n",
    "| 68 | 85 | 59 | 60 | 98 | 82 | 65 | 64 | 67 | 70 | 68 | 89 | 75 | 68 | 85 | 68 | 80 | 77 | 84 | \n",
    "| 75 | 75 | 70 | 70 | 65 | 70 | 64 | 85 | 70 | 73 | 82 | 62 | 70 | 68 | 80 | 73 | 80 | 66 | 70 | "
   ]
  },
  {
   "cell_type": "markdown",
   "metadata": {
    "slideshow": {
     "slide_type": "subslide"
    }
   },
   "source": [
    "#### Some data\n",
    "\n",
    "Females:\n",
    "    \n",
    "|  A |  B |  C |  D |  E |  F |  G |  H |  I |  J |  J |  L | \n",
    "| -- | -- | -- | -- | -- | -- | -- | -- | -- | -- | -- | -- | \n",
    "| 65 | 60 | 50 | 68 | 60 | 50 | 65 | 60 | 68 | 53 | 55 | 54 | \n",
    "| 65 | 52 | 65 | 60 | 46 | 53 | 57 | 68 | 63 | 55 | 55 | 57 | \n",
    "| 60 | 55 | 43 | 50 | 55 | 54 | 53 | 52 | 57 | 55 |    |    |"
   ]
  },
  {
   "cell_type": "markdown",
   "metadata": {
    "slideshow": {
     "slide_type": "slide"
    }
   },
   "source": [
    "### Graph of weights (1)\n",
    "One of the simplest representations of small sets of data is the \"dot plot\"\n",
    "\n",
    "**Dot plots.** These are useful for showing the distribution of a single scale variable. The data are binned, but, instead of one value for each bin (like a count), all of the points in each bin are displayed and stacked. These graphs are sometimes called *density plots*.\n",
    "\n",
    "**Note:** there is no standard implementation of a dot plot in python, we will therefore simply examine a figure generated in another application."
   ]
  },
  {
   "cell_type": "markdown",
   "metadata": {
    "slideshow": {
     "slide_type": "subslide"
    }
   },
   "source": [
    "### Graph of weights (2)\n",
    "\n",
    "![Class Weights](static/Figures/StudentWeight_DotPlot.png \"Dot Plot of Weights\")\n"
   ]
  },
  {
   "cell_type": "markdown",
   "metadata": {
    "slideshow": {
     "slide_type": "notes"
    }
   },
   "source": [
    "Observations:\n",
    "1. \"Lumping\" self-reported data show rounding to convenient numbers (5's and 10's)\n",
    "2. Some outliers\n",
    "3. Separating by student sex makes the distributions somewhat more regular\n",
    "4. What values can we use to represent \"typical\" male / female / student ?"
   ]
  },
  {
   "cell_type": "markdown",
   "metadata": {
    "slideshow": {
     "slide_type": "slide"
    }
   },
   "source": [
    "## Measures of centrality\n",
    "\n",
    "- Mean(s)  \n",
    "  -- **arithmetic**  \n",
    "  -- geometric  \n",
    "  -- harmonic  \n",
    "- Median  \n",
    "- Mode "
   ]
  },
  {
   "cell_type": "markdown",
   "metadata": {
    "slideshow": {
     "slide_type": "subslide"
    }
   },
   "source": [
    "### Mean (arithmetic)\n",
    "\n",
    "Also known as the **average**  \n",
    "  \n",
    "\n",
    "$$\\frac{( x_1 + x_2 + \\cdots + x_n )}{n}$$"
   ]
  },
  {
   "cell_type": "markdown",
   "metadata": {
    "slideshow": {
     "slide_type": "subslide"
    }
   },
   "source": [
    "### Mean (arithmetic)\n",
    "\n",
    "Alternative equation:\n",
    "  \n",
    "\n",
    "$$\\frac{\\sum\\limits_{i=1}^{n} x_i}{n}$$"
   ]
  },
  {
   "cell_type": "markdown",
   "metadata": {
    "slideshow": {
     "slide_type": "subslide"
    }
   },
   "source": [
    "### Median\n",
    "\n",
    "Value of the mean observation  \n",
    "Value of the 50th percentile observation  \n",
    "Value of the middle observation  \n",
    "\n",
    "**Procedure**:  \n",
    "  - Rank all values \n",
    "  - Determine middle value \n",
    "    - Odd number of observations: \n",
    "      - Median = value of middle observation\n",
    "    - Even number of observations: \n",
    "      - Median is mean of middle two observations"
   ]
  },
  {
   "cell_type": "markdown",
   "metadata": {
    "slideshow": {
     "slide_type": "subslide"
    }
   },
   "source": [
    "If $\\frac{n}{2}$ is an integer: average of $(\\frac{n}{2})^{th}$ and $(\\frac{n}{2}+1)^{th}$ observation  \n",
    "If $\\frac{n}{2}$ is a float: ${(int(\\frac{n}{2}) + 1)}^{th}$ observation"
   ]
  },
  {
   "cell_type": "markdown",
   "metadata": {
    "slideshow": {
     "slide_type": "subslide"
    }
   },
   "source": [
    "### Mode\n",
    "\n",
    "The value of the most frequent observation \n",
    "\n",
    "Mode of the example data is **70**\n",
    "  \n",
    "  \n",
    "<p><p>  \n",
    "**Note:** *we will compute the other statistics later in the exercises*"
   ]
  },
  {
   "cell_type": "markdown",
   "metadata": {
    "slideshow": {
     "slide_type": "slide"
    }
   },
   "source": [
    "## Other graphic representations\n",
    "\n",
    "### Histogram"
   ]
  },
  {
   "cell_type": "code",
   "execution_count": 130,
   "metadata": {
    "slideshow": {
     "slide_type": "subslide"
    }
   },
   "outputs": [],
   "source": [
    "import numpy as np\n",
    "import pandas\n",
    "import matplotlib.pyplot as plt\n",
    "import matplotlib.patches as patches\n",
    "import matplotlib.path as path\n",
    "\n"
   ]
  },
  {
   "cell_type": "code",
   "execution_count": 131,
   "metadata": {
    "slideshow": {
     "slide_type": "subslide"
    }
   },
   "outputs": [
    {
     "data": {
      "image/png": "[encoded data removed]",
      "text/plain": [
       "<matplotlib.figure.Figure at 0x7f0a8c7421d0>"
      ]
     },
     "metadata": {},
     "output_type": "display_data"
    }
   ],
   "source": [
    "weights = pandas.read_csv(\"static/Data/StudentWeights.csv\")\n",
    "\n",
    "fig, ax = plt.subplots()\n",
    "plt.hist(weights['Weight'], bins='fd')  # arguments are passed to np.histogram\n",
    "plt.title(\"Histogram with 'FD' bins\")\n",
    "plt.show()"
   ]
  },
  {
   "cell_type": "code",
   "execution_count": 132,
   "metadata": {
    "slideshow": {
     "slide_type": "subslide"
    }
   },
   "outputs": [
    {
     "data": {
      "image/png": "[encoded data removed]",
      "text/plain": [
       "<matplotlib.figure.Figure at 0x7f0a83ca5b00>"
      ]
     },
     "metadata": {},
     "output_type": "display_data"
    }
   ],
   "source": [
    "# plot by Sex\n",
    "plt.hist(weights[weights['Sex']=='M']['Weight'], bins='fd', color='red')  # arguments are passed to np.histogram\n",
    "plt.title(\"Histogram of male weight\")\n",
    "plt.show()\n"
   ]
  },
  {
   "cell_type": "code",
   "execution_count": 133,
   "metadata": {
    "slideshow": {
     "slide_type": "subslide"
    }
   },
   "outputs": [
    {
     "data": {
      "image/png": "[encoded data removed]",
      "text/plain": [
       "<matplotlib.figure.Figure at 0x7f0a835a2710>"
      ]
     },
     "metadata": {},
     "output_type": "display_data"
    }
   ],
   "source": [
    "plt.hist(weights[weights['Sex']=='F']['Weight'], bins='fd', color='blue')  # arguments are passed to np.histogram\n",
    "plt.title(\"Histogram of female weight\")\n",
    "plt.show()\n"
   ]
  },
  {
   "cell_type": "markdown",
   "metadata": {
    "slideshow": {
     "slide_type": "slide"
    }
   },
   "source": [
    "### Histogram using polar coordinates\n",
    "\n",
    "An early important use of a **polar coordinate / radial axis histogram / circular histogram / Coxcomb chart / polar area diagram** \n",
    "was by Florence Nigthingale \n",
    "- Crimean War \n",
    "- 1853 - 1856\n",
    "- Russia vs Alliance (Ottoman Empire, France, Britain, Sardinia)\n",
    "\n",
    "Florence Nightingale used the statistics and the \"Nightingale rose diagram\" \n",
    "- to convince the British *Members of Parliament* \n",
    "- to improve sanitation and medical conditions"
   ]
  },
  {
   "cell_type": "markdown",
   "metadata": {
    "slideshow": {
     "slide_type": "subslide"
    }
   },
   "source": [
    "![Nightingale Rose](static/Figures/NightingaleRose.png \"Nightingale Rose Diagram\")"
   ]
  },
  {
   "cell_type": "markdown",
   "metadata": {
    "slideshow": {
     "slide_type": "notes"
    }
   },
   "source": [
    "Point out that the male and female   \n",
    "ranges are different\n",
    "extreme values (male)  \n",
    "dispersion  \n",
    "A few large males could be due to Rugby players "
   ]
  },
  {
   "cell_type": "code",
   "execution_count": 134,
   "metadata": {
    "slideshow": {
     "slide_type": "notes"
    }
   },
   "outputs": [
    {
     "name": "stdout",
     "output_type": "stream",
     "text": [
      "Mmed:  70.000\tFmed:  55.000\n",
      "Mdev:   5.500\tFdev:   3.500\n"
     ]
    }
   ],
   "source": [
    "# Ideal data for student weights\n",
    "Mmed = weights.Weight[weights.Sex==\"M\"].median()\n",
    "Fmed = weights.Weight[weights.Sex==\"F\"].median()\n",
    "Mdev = (weights.Weight[weights.Sex==\"M\"].quantile(.75) - weights.Weight[weights.Sex==\"M\"].quantile(.25))/2\n",
    "Fdev = (weights.Weight[weights.Sex==\"F\"].quantile(.75) - weights.Weight[weights.Sex==\"F\"].quantile(.25))/2\n",
    "Mn = weights.Weight[weights.Sex==\"M\"].count()\n",
    "Fn = weights.Weight[weights.Sex==\"F\"].count()\n",
    "print('Mmed:  %6.3f\\tFmed:  %6.3f' %( Mmed, Fmed ) )\n",
    "print('Mdev:  %6.3f\\tFdev:  %6.3f' %( Mdev, Fdev ) )\n",
    "\n",
    "males = np.random.normal(Mmed,Mdev,Mn)\n",
    "females = np.random.normal(Fmed,Fdev,Fn)\n",
    "sex=np.array(['M','F'])\n",
    "sex=np.repeat(sex,[Mn,Fn],axis=0)\n",
    "\n",
    "newWeights = pandas.DataFrame({'Sex':sex,'NormWeight':np.concatenate([males,females])})\n"
   ]
  },
  {
   "cell_type": "code",
   "execution_count": 135,
   "metadata": {
    "slideshow": {
     "slide_type": "notes"
    }
   },
   "outputs": [
    {
     "data": {
      "image/png": "[encoded data removed]",
      "text/plain": [
       "<matplotlib.figure.Figure at 0x7f0a83707128>"
      ]
     },
     "metadata": {},
     "output_type": "display_data"
    }
   ],
   "source": [
    "a1 = plt.hist( [males,females] , bins=10, color=('red','blue'), histtype='bar')"
   ]
  },
  {
   "cell_type": "code",
   "execution_count": 136,
   "metadata": {
    "slideshow": {
     "slide_type": "notes"
    }
   },
   "outputs": [
    {
     "data": {
      "image/png": "[encoded data removed]",
      "text/plain": [
       "<matplotlib.figure.Figure at 0x7f0a83500ac8>"
      ]
     },
     "metadata": {},
     "output_type": "display_data"
    }
   ],
   "source": [
    "a2 = plt.hist(newWeights[newWeights.Sex==\"F\"]['NormWeight'], bins='fd', color='blue')"
   ]
  },
  {
   "cell_type": "code",
   "execution_count": 137,
   "metadata": {
    "slideshow": {
     "slide_type": "notes"
    }
   },
   "outputs": [
    {
     "data": {
      "image/png": "[encoded data removed]",
      "text/plain": [
       "<matplotlib.figure.Figure at 0x7f0a834793c8>"
      ]
     },
     "metadata": {},
     "output_type": "display_data"
    }
   ],
   "source": [
    "a3 = plt.hist(newWeights[newWeights.Sex==\"F\"]['NormWeight'], bins='fd', color='red')"
   ]
  },
  {
   "cell_type": "code",
   "execution_count": 138,
   "metadata": {
    "slideshow": {
     "slide_type": "subslide"
    }
   },
   "outputs": [
    {
     "data": {
      "text/plain": [
       "<matplotlib.text.Text at 0x7f0a832e8ba8>"
      ]
     },
     "execution_count": 138,
     "metadata": {},
     "output_type": "execute_result"
    },
    {
     "data": {
      "image/png": "[encoded data removed]",
      "text/plain": [
       "<matplotlib.figure.Figure at 0x7f0a83441cf8>"
      ]
     },
     "metadata": {},
     "output_type": "display_data"
    }
   ],
   "source": [
    "fig, axes = plt.subplots(nrows=1,ncols=3, figsize=(15,5) )\n",
    "ax0, ax1, ax2 = axes.flatten()\n",
    "ax0.hist( [males,females] , bins=10, color=('red','blue'), histtype='bar')\n",
    "ax0.set_title(\"All Weights\")\n",
    "ax1.hist(newWeights[newWeights.Sex==\"F\"]['NormWeight'], bins='fd', color='blue')  \n",
    "ax1.set_title(\"Female Weights\")\n",
    "ax2.hist(newWeights[newWeights.Sex==\"F\"]['NormWeight'], bins='fd', color='red') \n",
    "ax2.set_title(\"Male Weights\")"
   ]
  },
  {
   "cell_type": "code",
   "execution_count": 139,
   "metadata": {
    "slideshow": {
     "slide_type": "subslide"
    }
   },
   "outputs": [
    {
     "data": {
      "image/png": "[encoded data removed]",
      "text/plain": [
       "<matplotlib.figure.Figure at 0x7f0a83441cf8>"
      ]
     },
     "execution_count": 139,
     "metadata": {},
     "output_type": "execute_result"
    }
   ],
   "source": [
    "fig"
   ]
  },
  {
   "cell_type": "markdown",
   "metadata": {
    "slideshow": {
     "slide_type": "slide"
    }
   },
   "source": [
    "## Summary statistics\n",
    "\n",
    "What other features can we use to describe the appearance of the data?  \n",
    "\n",
    "Summary statistics:  \n",
    "- Single values that describe properties of the data\n",
    "\n",
    "Let us look at the dot plot again:\n"
   ]
  },
  {
   "cell_type": "markdown",
   "metadata": {
    "slideshow": {
     "slide_type": "subslide"
    }
   },
   "source": [
    "![Class Weights](static/Figures/StudentWeight_DotPlot.png \"Dot Plot of Weights\")\n"
   ]
  },
  {
   "cell_type": "markdown",
   "metadata": {
    "slideshow": {
     "slide_type": "slide"
    }
   },
   "source": [
    "## Measures of dispersion\n",
    "\n",
    "Dispersion: the action or process of distributing things or people over a wide area.\n",
    "- Scatter\n",
    "  \n",
    "<p>  \n",
    "Summarize whether data are  \n",
    "  - Close together  \n",
    "  - Far apart  \n",
    "  \n"
   ]
  },
  {
   "cell_type": "markdown",
   "metadata": {
    "slideshow": {
     "slide_type": "subslide"
    }
   },
   "source": [
    "### Measures of dispersion\n",
    "  \n",
    "Statistics  \n",
    "**- Range**  \n",
    "**- Variance**  \n",
    "**- Standard Deviation**  \n",
    "**- Interquartile Range (IQR)**  \n"
   ]
  },
  {
   "cell_type": "markdown",
   "metadata": {
    "slideshow": {
     "slide_type": "notes"
    }
   },
   "source": [
    "Range is simple, others more complex\n"
   ]
  },
  {
   "cell_type": "markdown",
   "metadata": {
    "slideshow": {
     "slide_type": "slide"
    }
   },
   "source": [
    "#### Calculating the statistics"
   ]
  },
  {
   "cell_type": "markdown",
   "metadata": {
    "slideshow": {
     "slide_type": "slide"
    }
   },
   "source": [
    "##### Range\n",
    "\n",
    "$\\max x - \\min x$"
   ]
  },
  {
   "cell_type": "code",
   "execution_count": 140,
   "metadata": {
    "slideshow": {
     "slide_type": "subslide"
    }
   },
   "outputs": [
    {
     "name": "stdout",
     "output_type": "stream",
     "text": [
      "55\n"
     ]
    }
   ],
   "source": [
    "## Use the numpy ptp function to return range\n",
    "\n",
    "wRange = np.ptp(weights['Weight'])\n",
    "print(wRange)"
   ]
  },
  {
   "cell_type": "markdown",
   "metadata": {
    "slideshow": {
     "slide_type": "slide"
    }
   },
   "source": [
    "##### Variance\n",
    "\n",
    "$s^2=\\frac{\\sum\\limits_{i=1}^{n} (x_i - \\bar x)^2}{n-1}$  \n",
    "where:\n",
    "$\\bar x$ is the *mean of x*\n",
    "\n",
    "Remember:  \n",
    "${\\sum\\limits_{i=1}^{n}} (x_i - \\bar x) = 0$  \n",
    "where:\n",
    "$x_i - \\bar x$ is defined as the *deviant*"
   ]
  },
  {
   "cell_type": "markdown",
   "metadata": {
    "slideshow": {
     "slide_type": "notes"
    }
   },
   "source": [
    "Ask for explanations from the audience."
   ]
  },
  {
   "cell_type": "markdown",
   "metadata": {
    "slideshow": {
     "slide_type": "subslide"
    }
   },
   "source": [
    "##### Variance\n",
    "\n",
    "The **(n-1)** denominator in the formula is for the variance of a **sample**  \n",
    "\n",
    "Asymptotically (when n gets very large), the value of the variance approaches (x - mean(x))<sup>2</sup>/n  \n",
    "- because n is approximately n-1 for very large n  \n",
    "\n",
    "The **population variance** uses a denominator of **n**\n",
    "\n"
   ]
  },
  {
   "cell_type": "code",
   "execution_count": 141,
   "metadata": {
    "slideshow": {
     "slide_type": "subslide"
    }
   },
   "outputs": [
    {
     "name": "stdout",
     "output_type": "stream",
     "text": [
      "Numpy:       112.752869353\n",
      "Numpy:       112.75\n",
      "Statistics:  112\n"
     ]
    }
   ],
   "source": [
    "print(\"Numpy:      \", np.var(weights['Weight'],ddof=1))  \n",
    "\n",
    "print(\"Numpy:      \", round(np.var(weights['Weight'],ddof=1),2))\n",
    "\n",
    "from statistics import variance\n",
    "print(\"Statistics: \", variance(weights['Weight']))\n"
   ]
  },
  {
   "cell_type": "markdown",
   "metadata": {
    "slideshow": {
     "slide_type": "subslide"
    }
   },
   "source": [
    "##### Variance -- observations\n",
    "\n",
    "In the numpy *var()* function we specify *ddof* (delta degrees of freedom) which represents the $-1$  (Bessel's correction) of the $n-1$ denominator in our equation:  \n",
    "$s^2=\\frac{\\sum\\limits_{i=1}^{n} (x_i - \\bar x)^2}{n-1}$ \n",
    "  \n",
    "<p>  \n",
    "<p>  \n",
    "Curiously, the implementation of *variance* from statistics returns a value that is smaller than the one computed by the *numpy var* function.    \n",
    "**112.75 is the correct answer.** "
   ]
  },
  {
   "cell_type": "markdown",
   "metadata": {
    "slideshow": {
     "slide_type": "subslide"
    }
   },
   "source": [
    "##### Variance -- observations\n",
    "\n",
    "Variance has squared units\n",
    "- for weight the units will be $kg^2$\n",
    "- its magnitude is not of the same order as the original scale"
   ]
  },
  {
   "cell_type": "markdown",
   "metadata": {
    "slideshow": {
     "slide_type": "slide"
    }
   },
   "source": [
    "##### Standard deviation\n",
    "\n",
    "Remember that variance is a function of  \n",
    "- **squared deviants**  or **squared deviations**  \n",
    "- scaled by the number of observations **(n)**  \n",
    "\n",
    "The **standard deviation** is the square root of the variance  \n",
    "\n",
    "$s=\\sqrt{\\frac{\\sum\\limits_{i=1}^{n} (x_i - \\bar x)^2}{n-1}}$ \n",
    "  \n",
    "It returns the measure of dispersion to the original scale"
   ]
  },
  {
   "cell_type": "markdown",
   "metadata": {
    "slideshow": {
     "slide_type": "subslide"
    }
   },
   "source": [
    "##### Standard deviation\n",
    "\n",
    "Since  **population** and **sample** variance differ in the denominator  \n",
    "- population is **n**  \n",
    "- sample is **n-1** \n",
    "  \n",
    "So **population** and **sample** standard deviation differ in the denominator  "
   ]
  },
  {
   "cell_type": "markdown",
   "metadata": {
    "slideshow": {
     "slide_type": "slide"
    }
   },
   "source": [
    "##### Interquartile range\n",
    "\n",
    "Median is the middle value or 50<sup>th</sup> percentile \n",
    "Quartiles \n",
    "- Divide distribution into 4 groups of the same number\n",
    "- (0), 25, 50, 75, 100 percentiles\n",
    "- (Q<sub>0</sub>), Q<sub>1</sub>, Q<sub>2</sub>, Q<sub>3</sub>, Q<sub>4</sub>\n",
    "\n",
    "$ IQR = Q_3 - Q_1$"
   ]
  },
  {
   "cell_type": "code",
   "execution_count": 142,
   "metadata": {
    "slideshow": {
     "slide_type": "subslide"
    }
   },
   "outputs": [
    {
     "name": "stdout",
     "output_type": "stream",
     "text": [
      "IQR for males  : 11.0\n",
      "IQR for females:  7.0\n"
     ]
    }
   ],
   "source": [
    "x  = np.percentile(weights[weights.Sex==\"M\"]['Weight'], [75, 25])\n",
    "print(\"IQR for males  : %4.1f\" % (x[0]-x[1]) )\n",
    "x  = np.percentile(weights[weights.Sex==\"F\"]['Weight'], [75, 25])\n",
    "print(\"IQR for females: %4.1f\" % (x[0]-x[1]) )"
   ]
  },
  {
   "cell_type": "markdown",
   "metadata": {
    "slideshow": {
     "slide_type": "subslide"
    }
   },
   "source": [
    "#### Box and whiskers plot\n",
    "\n",
    "Used to represent Median, IQR and range (min,max)  \n",
    "Outliers are take as 1.5 times IQR \n",
    "- \\> Q<sub>2</sub> + 1.5 \\* IQR\n",
    "- < Q<sub>1</sub> - 1.5 \\* IQR\n",
    "- removed from range and range extended to (min,max) of non-outliers  \n",
    "\n",
    "B & W plots  \n",
    "- Good for asymmetric distributions  \n",
    "- Small-sample distributions  \n",
    "  \n"
   ]
  },
  {
   "cell_type": "code",
   "execution_count": 143,
   "metadata": {
    "slideshow": {
     "slide_type": "subslide"
    }
   },
   "outputs": [
    {
     "data": {
      "text/plain": [
       "<matplotlib.axes._subplots.AxesSubplot at 0x7f0a83247048>"
      ]
     },
     "execution_count": 143,
     "metadata": {},
     "output_type": "execute_result"
    },
    {
     "data": {
      "image/png": "[encoded data removed]",
      "text/plain": [
       "<matplotlib.figure.Figure at 0x7f0a83254a20>"
      ]
     },
     "metadata": {},
     "output_type": "display_data"
    }
   ],
   "source": [
    "weights.boxplot('Weight', by='Sex')"
   ]
  },
  {
   "cell_type": "markdown",
   "metadata": {
    "slideshow": {
     "slide_type": "slide"
    }
   },
   "source": [
    "## Properties of x-bar and s, median and IQR\n",
    "\n",
    "We use the pairs of statistics when \n",
    "- Mean ($\\large \\bar x $) and standard devation (s)  \n",
    "  -- distribution symmetrical  \n",
    "  -- no outliers  \n",
    "- Median and IQR  \n",
    "  -- distribution NOT symmetrical  \n",
    "  -- outlers  \n"
   ]
  },
  {
   "cell_type": "markdown",
   "metadata": {
    "slideshow": {
     "slide_type": "slide"
    }
   },
   "source": [
    "## Z and Standard Normal\n",
    "\n",
    "Unimodal symmetrical distributions differ in\n",
    "- mean ($\\bar x$)\n",
    "- SD (s)"
   ]
  },
  {
   "cell_type": "markdown",
   "metadata": {
    "slideshow": {
     "slide_type": "subslide"
    }
   },
   "source": [
    "## Z and Standard Normal\n",
    "Standardizing distributions \n",
    "\n",
    "$z_i=\\frac{x_i - \\bar x}{s}$  \n",
    "\n",
    "- Permits comparison of any unimodal symmetrical distributions  \n",
    "- This standardization procedure is a **normalization** procedure\n",
    "- Called the *Z* transformation"
   ]
  },
  {
   "cell_type": "code",
   "execution_count": 144,
   "metadata": {
    "scrolled": true,
    "slideshow": {
     "slide_type": "subslide"
    }
   },
   "outputs": [],
   "source": [
    "import matplotlib.mlab as mlab\n",
    "import math\n",
    "from scipy.stats.kde import gaussian_kde\n",
    "\n",
    "x = np.random.normal(0,1,10000) # generate some random normally distributed data\n",
    "kde = gaussian_kde( x ) ## Generate Gaussian kernel density\n",
    "dist_space = np.linspace( min(x), max(x), 200 )\n",
    "\n",
    "mu, variance = (0,1)\n",
    "sigma = math.sqrt(variance)\n",
    "x = np.linspace(mu - 3*sigma, mu + 3*sigma, 100)"
   ]
  },
  {
   "cell_type": "code",
   "execution_count": 145,
   "metadata": {
    "slideshow": {
     "slide_type": "subslide"
    }
   },
   "outputs": [
    {
     "data": {
      "image/png": "[encoded data removed]",
      "text/plain": [
       "<matplotlib.figure.Figure at 0x7f0a83297128>"
      ]
     },
     "metadata": {},
     "output_type": "display_data"
    }
   ],
   "source": [
    "plt.plot(dist_space,kde(dist_space)) # Make default density plot\n",
    "plt.plot(x,mlab.normpdf(x, mu, sigma)) # Make density plot of mathematical Normal\n",
    "plt.show()"
   ]
  },
  {
   "cell_type": "markdown",
   "metadata": {
    "slideshow": {
     "slide_type": "slide"
    }
   },
   "source": [
    "# Summary\n",
    "\n",
    "We have  \n",
    "1. Displayed data in a few ways  \n",
    "2. Defined several measures of centrality  \n",
    "3. Defined several measures of dispersion  \n",
    "4. Encountered \"mound-shaped\" distributions\n",
    "   1. Normal\n",
    "   2. Z"
   ]
  }
 ],
 "metadata": {
  "celltoolbar": "Slideshow",
  "kernelspec": {
   "display_name": "Python 3",
   "language": "python",
   "name": "python3"
  },
  "language_info": {
   "codemirror_mode": {
    "name": "ipython",
    "version": 3
   },
   "file_extension": ".py",
   "mimetype": "text/x-python",
   "name": "python",
   "nbconvert_exporter": "python",
   "pygments_lexer": "ipython3",
   "version": "3.6.4"
  }
 },
 "nbformat": 4,
 "nbformat_minor": 2
}
