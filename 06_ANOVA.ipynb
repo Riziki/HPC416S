{
 "cells": [
  {
   "cell_type": "markdown",
   "metadata": {},
   "source": [
    "# ANOVA\n",
    "\n",
    "**An**alysis **O**f **VA**riance  \n",
    "\n",
    "Method to partition variance within and between groups  "
   ]
  },
  {
   "cell_type": "markdown",
   "metadata": {},
   "source": [
    "## ANOVA\n",
    "\n",
    "Main test for one-way ANOVA  \n",
    "- Do any of the groups differ from the global mean?  \n",
    "\n",
    "Assumes  \n",
    "- homoskedasticity (equal variances)  \n",
    "- Normal distribution of errors (Normality assumption)  \n",
    "\n",
    "Is more robust to deviation from normality assumption than from homoskedasticity assumption  "
   ]
  },
  {
   "cell_type": "markdown",
   "metadata": {},
   "source": [
    "## ANOVA\n",
    "\n",
    "Based on dividing **Sum of Squares** into:  \n",
    "- within groups  \n",
    "- between groups  \n"
   ]
  },
  {
   "cell_type": "markdown",
   "metadata": {},
   "source": [
    "### Example  \n",
    "\n",
    "Read in the file \"Rhizobium.csv\"  \n",
    "\n",
    "For each column (i), we need to compute\n",
    "1. Sum:  $\\sum_{j}{} Y_{ij} = Y_{i\\cdot}$ \n",
    "2. Sum of squares: $\\sum_{j}{} Y_{i,j}^2$   \n",
    "3. Squared sum divided by r (replicates): $\\large\\frac{(Y_{i\\cdot})^2}{r}$\n",
    "4. Sum of squared deviants: $\\sum_{j}(Y_{ij} - \\bar Y_{i\\cdot})^2$  \n",
    "5. Mean:  $\\bar Y_{i\\cdot}$\n"
   ]
  },
  {
   "cell_type": "markdown",
   "metadata": {},
   "source": [
    "### Example  \n",
    "\n",
    "Calculate the row totals for 1 to 4 above  \n",
    "1. Sum of Sums: $\\sum_{i} Y_{i\\cdot} = Y_{\\cdot\\cdot} $ \n",
    "2. Sum of Sum of squares : $\\sum_{i} \\sum_{j}{} Y_{i,j}^2 $\n",
    "3. ...\n"
   ]
  },
  {
   "cell_type": "markdown",
   "metadata": {},
   "source": [
    "### Example  \n",
    "\n",
    "$\\large SS(total) = \\sum_{i,j} Y_{i,j}^2 - C $  \n",
    "\n",
    "C is a \"correction\" term \n",
    "\n",
    "$\\large C = \\frac{Y_{\\cdot\\cdot}^2}{rt}$  \n",
    "\n",
    "where  \n",
    "- r = replicates\n",
    "- t = treatments\n",
    "\n",
    "\n"
   ]
  },
  {
   "cell_type": "markdown",
   "metadata": {},
   "source": [
    "### Example  \n",
    "\n",
    "$\\large SS(treatment) = \\frac{\\sum_\\limits{i=1}^{t} Y_{i,\\cdot}^2}{r} - C = \\frac{Y_{1\\cdot}^2 + Y_{2\\cdot}^2+\\cdots + Y_{t\\cdot}^2} {r} -C$ \n",
    "\n",
    "$\\large \\frac{\\sum_\\limits{i=1}^{t} Y_{i,\\cdot}^2}{r}$ was computed in row 3"
   ]
  },
  {
   "cell_type": "markdown",
   "metadata": {},
   "source": [
    "### Example  \n",
    "$SS(error) = SS(total) - SS(treatment)$\n",
    "\n",
    "Here:\n",
    "$\\large C=\\frac{(596.6)^2}{(5)(6)} = 11,864.38$\n",
    "\n",
    "$$\\large SS(total)= 12,994.36 - 11,864.38 = 1,129.98$$\n",
    "\n",
    "$$\\large SS(treatment) = 12711.43 - 11,864.38 = 847.05$$\n",
    "\n",
    "$$\\large SS(error) = 1,129.98 - 847.05= 282.93$$\n",
    "\n",
    "But, SS(error) = sum of row 4  \n",
    "\n",
    "\n"
   ]
  },
  {
   "cell_type": "markdown",
   "metadata": {},
   "source": [
    "### Example  \n",
    "\n",
    "SS(error) can futner be computed as:\n",
    "\n",
    "$$\\large SS(error) = \\sum_\\limits{i}{}(\\sum_\\limits{j}{}Y_{ij}^2-\\frac{Y_{i\\cdot}^2}{r})$$\n",
    "\n",
    "For each column: row<sub>2</sub> - (row<sub>1</sub>)<sup>2</sup>/r\n",
    "Sum all the products  "
   ]
  },
  {
   "cell_type": "markdown",
   "metadata": {},
   "source": [
    "## ANOVA  -- Puting it together\n",
    "\n",
    "ANOVA of \"Rhizobium\" data:\n",
    "\n",
    "|Source of varitation|df|sum of squares|Mean square|F|  \n",
    "|----|--|---|---|---|   \n",
    "|Among cultures |5|847.05|169.41|14.37|\n",
    "|Within cultures|24|282.93|11.79| |\n",
    "|Total|29|1,129.98| | |"
   ]
  },
  {
   "cell_type": "code",
   "execution_count": 8,
   "metadata": {},
   "outputs": [
    {
     "name": "stdout",
     "output_type": "stream",
     "text": [
      "P value for F(5,24): 0.00380\n"
     ]
    }
   ],
   "source": [
    "import scipy.stats as st\n",
    "print(\"P value for F(5,24): %7.5f\" % (st.f.sf(14.37,24,5) ))"
   ]
  }
 ],
 "metadata": {
  "kernelspec": {
   "display_name": "Python 3",
   "language": "python",
   "name": "python3"
  },
  "language_info": {
   "codemirror_mode": {
    "name": "ipython",
    "version": 3
   },
   "file_extension": ".py",
   "mimetype": "text/x-python",
   "name": "python",
   "nbconvert_exporter": "python",
   "pygments_lexer": "ipython3",
   "version": "3.5.2"
  }
 },
 "nbformat": 4,
 "nbformat_minor": 2
}
